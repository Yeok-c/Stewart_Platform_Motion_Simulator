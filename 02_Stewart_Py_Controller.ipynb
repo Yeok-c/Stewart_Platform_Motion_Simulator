{
 "cells": [
  {
   "cell_type": "markdown",
   "metadata": {},
   "source": [
    "# Using a Stewart Platform as a Motion Simulator\n",
    "#### Python + ESP32 + 3D CAD + Motion Capture Data\n",
    "\n",
    "This is a WIP progress!\n",
    "\n",
    "\n",
    "[<img src=\"./doc/jupyter_nb/Stewart_IRL_1.gif\" width=\"30%\" height=\"30%\">](./doc/jupyter_nb/Stewart_IRL_1.gif)\n",
    "[<img src=\"./doc/jupyter_nb/Fusion360.png\" width=\"30%\" height=\"30%\">](./doc/jupyter_nb/Fusion360.png)\n",
    "[<img src=\"./doc/jupyter_nb/Stewart_IRL_2.gif\" width=\"30%\" height=\"30%\">](./doc/jupyter_nb/Stewart_IRL_2.gif)\n"
   ]
  },
  {
   "cell_type": "markdown",
   "metadata": {},
   "source": [
    "Import the CSV file containing the positions of a body in 6DOF. A 2DOF example of a person running on a treadmill is provided, of which we scale into the form of\n",
    "\n",
    "Yaw: Radians\n",
    "\n",
    "Translation in Z axis: Centimeters scaled according to height of motion simulator"
   ]
  },
  {
   "cell_type": "code",
   "execution_count": null,
   "metadata": {},
   "outputs": [],
   "source": [
    "import csv\n",
    "import numpy as np\n",
    "import matplotlib.pyplot as plt\n",
    "\n",
    "file = open('positions_processed.csv')\n",
    "csvreader = csv.reader(file)\n",
    "rows = []\n",
    "for row in csvreader:\n",
    "        rows.append(row)\n",
    "rows\n",
    "file.close()\n",
    "movements = np.array(rows)\n",
    "\n",
    "yaw_movements = movements[0,:].astype('float') /180*np.pi\n",
    "z_movements = movements[1,:].astype('float')/20\n",
    "\n",
    "plt.subplot(211) \n",
    "plt.plot(yaw_movements)\n",
    "plt.subplot(212) \n",
    "plt.plot(z_movements)"
   ]
  },
  {
   "cell_type": "markdown",
   "metadata": {},
   "source": [
    "My approach is then to\n",
    "1. Use the stewart_py package to calculate the inverse kinematic of the desired position according to the movement data\n",
    "2. Use py_serial to output the data to a ESP32\n",
    "3. ESP32 receives serial data and issues I2C command to a pca9685\n",
    "4. pca9685 commands 6 servo motors to rotate accordingly\n",
    "\n",
    "This is a very cost efficient solution however if I could redo this project I'd use a Raspberry Pi instead and direcly use it to issue I2C commands to a pca9685"
   ]
  },
  {
   "cell_type": "code",
   "execution_count": null,
   "metadata": {},
   "outputs": [],
   "source": [
    "import numpy as np\n",
    "from src.stewart_controller import Stewart_Platform\n",
    "import matplotlib.pyplot as plt\n",
    "import time\n",
    "import serial\n",
    "\n",
    "# Initialize serial\n",
    "ser = serial.Serial()\n",
    "ser.port = 'COM5'\n",
    "ser.baudrate = 38400\n",
    "ser.setDTR(False)\n",
    "ser.setRTS(False)\n",
    "\n",
    "# ser.close()\n",
    "if not ser.isOpen():\n",
    "    ser.open()\n",
    "\n",
    "# Call object, \n",
    "# These parameters are for my 3D models as provided, you can change your parameters according to your own hardware,\n",
    "# Stewart_Platform(r_B, r_P, lhl, ldl, Psi_B, Psi_P), where\n",
    "# r_B = Radius of Base (Bottom)\n",
    "# r_P = Radius of Platform (Top)\n",
    "# lhl = Servo Horn Length\n",
    "# ldl = Rod length\n",
    "# Psi_B = Half of angle between two anchors on the base\n",
    "# Psi_P = Half of angle between two anchors on the platform\n",
    "# For details please refer to my tutorial https://github.com/Yeok-c/Stewart_Py\n",
    "\n",
    "platform = Stewart_Platform(13.2/2, 17.5/2, 5.08, 12, 0.2269, 0.82)\n",
    "controller_freq = 12\n",
    "# %matplotlib qt\n",
    "# Initialize Plots\n",
    "fig, ax = plt.subplots()    \n",
    "\n",
    "while 1:\n",
    "    # Loop through various angles\n",
    "    for ix in range(0, 600, 8):\n",
    "        time.sleep(1/controller_freq)\n",
    "        # tic = time.time()\n",
    "\n",
    "        # send servo angles for this time-step. Movement input data is scaled for better clarity, output is scaled into degrees\n",
    "        servo_angles = platform.calculate( np.array([0,0,-2+0.5*z_movements[ix]]), np.array([0, 0, yaw_movements[ix]]) )/np.pi*180\n",
    "        \n",
    "        # Send serial data to ESP32 in the form of a string \"<A,float,float,float,float,float,float>\"\n",
    "        towrite = np.array2string(servo_angles, precision=1, separator=',').strip('[]')\n",
    "        towrite = '<A,' + towrite + '>'\n",
    "        ser.write(towrite.encode())     # write a string\n",
    "        print(towrite)\n",
    "\n",
    "        # Hide this if your computer takes too long to plot, affecting the controller speed\n",
    "        # ax = platform.plot_platform()\n",
    "        # plt.pause(1/controller_freq)\n",
    "        # plt.draw()\n",
    "\n",
    "        # toc = time.time()\n",
    "        # print(tic-toc) # Measure time to see if plotting affects speed of controller\n"
   ]
  }
 ],
 "metadata": {
  "interpreter": {
   "hash": "f04422457bb766eeb124abae24b6f4bf0aee5f51bd86c73d04b0e3166e9d1fea"
  },
  "kernelspec": {
   "display_name": "Python 3.6.13 64-bit ('stewart_py2': conda)",
   "language": "python",
   "name": "python3"
  },
  "language_info": {
   "codemirror_mode": {
    "name": "ipython",
    "version": 3
   },
   "file_extension": ".py",
   "mimetype": "text/x-python",
   "name": "python",
   "nbconvert_exporter": "python",
   "pygments_lexer": "ipython3",
   "version": "3.6.13"
  },
  "orig_nbformat": 4
 },
 "nbformat": 4,
 "nbformat_minor": 2
}
